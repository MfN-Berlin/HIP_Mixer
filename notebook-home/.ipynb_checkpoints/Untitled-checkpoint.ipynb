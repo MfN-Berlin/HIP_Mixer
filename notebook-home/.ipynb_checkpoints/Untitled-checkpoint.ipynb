{
 "cells": [
  {
   "cell_type": "markdown",
   "metadata": {},
   "source": [
    "# Goal\n",
    "\n",
    "Play a underwater noise recording as a whale would hear it.\n",
    "\n",
    "## 1. Load underwater noise and animal vocalization recordings\n",
    "Example noise: Large ship approaching hydrophones https://www.pmel.noaa.gov/acoustics/env-noise/ronbrown.htmlThe \n",
    "The original sound is infrasonic, it has been sped up 10 times.\n",
    "\n",
    "Example blue whale vocalization: Blue Whale\n",
    "South Pacific (https://www.pmel.noaa.gov/acoustics/whales/sounds/sounds_whales_blue.html)"
   ]
  },
  {
   "cell_type": "code",
   "execution_count": 6,
   "metadata": {},
   "outputs": [],
   "source": [
    "library(tools)\n",
    "library(tuneR)\n",
    "library(seewave)\n",
    "\n",
    "saved <- options(repr.plot.width=12, repr.plot.height=6)\n",
    "wavfilepath_1 <- \"./audio/RHB_arrival_h07_00N_110w_jd31913-RonBrown-10x.wav\"\n",
    "s1<-readWave(wavfilepath_1)\n",
    "\n",
    "wavfilepath_2 <- \"./audio/etpb3_10xc-BlueWhaleSouthPacific-10x.wav\"\n",
    "s2<-readWave(wavfilepath_2)"
   ]
  },
  {
   "cell_type": "markdown",
   "metadata": {},
   "source": [
    "## 2. Upsample\n",
    "Upsampling is necessary, as the downloaded files have a sampling rate of 8kHz. Resample to 44kHz to be able to filter later (sampling rate should be at least double the filter frequency)."
   ]
  },
  {
   "cell_type": "code",
   "execution_count": 7,
   "metadata": {},
   "outputs": [],
   "source": [
    "upfilepath_1 <- paste0( file_path_sans_ext(wavfilepath_1), \"_r44.wav\")\n",
    "cmd <- paste(\"sox\", wavfilepath_1, \"-r 44100\", upfilepath_1)\n",
    "system(cmd)\n",
    "\n",
    "upfilepath_2 <- paste0( file_path_sans_ext(wavfilepath_2), \"_r44.wav\")\n",
    "cmd <- paste(\"sox\", wavfilepath_2, \"-r 44100\", upfilepath_2)\n",
    "system(cmd)"
   ]
  },
  {
   "cell_type": "code",
   "execution_count": 4,
   "metadata": {},
   "outputs": [],
   "source": []
  },
  {
   "cell_type": "code",
   "execution_count": null,
   "metadata": {},
   "outputs": [],
   "source": []
  }
 ],
 "metadata": {
  "kernelspec": {
   "display_name": "R",
   "language": "R",
   "name": "ir"
  },
  "language_info": {
   "codemirror_mode": "r",
   "file_extension": ".r",
   "mimetype": "text/x-r-source",
   "name": "R",
   "pygments_lexer": "r",
   "version": "3.6.1"
  }
 },
 "nbformat": 4,
 "nbformat_minor": 2
}
